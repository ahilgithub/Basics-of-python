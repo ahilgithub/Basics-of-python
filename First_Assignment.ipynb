{
  "nbformat": 4,
  "nbformat_minor": 0,
  "metadata": {
    "colab": {
      "provenance": [],
      "authorship_tag": "ABX9TyMJBlYzLpYP/AFQizbw86Lg",
      "include_colab_link": true
    },
    "kernelspec": {
      "name": "python3",
      "display_name": "Python 3"
    },
    "language_info": {
      "name": "python"
    }
  },
  "cells": [
    {
      "cell_type": "markdown",
      "metadata": {
        "id": "view-in-github",
        "colab_type": "text"
      },
      "source": [
        "<a href=\"https://colab.research.google.com/github/ahilgithub/Basics-of-python/blob/main/First_Assignment.ipynb\" target=\"_parent\"><img src=\"https://colab.research.google.com/assets/colab-badge.svg\" alt=\"Open In Colab\"/></a>"
      ]
    },
    {
      "cell_type": "code",
      "execution_count": null,
      "metadata": {
        "id": "k25G2Yrs_Dyv"
      },
      "outputs": [],
      "source": [
        "##1. Explain the key features of Python that make it a popular choice for programming\n",
        "\n",
        "# a.easy to read\n",
        "# b.easy to code\n",
        "# c.interpreted language\n",
        "# d.large standard library\n",
        "# e.open source\n",
        "# f.cross platform compatibility\n",
        "# g.GUI support and object oriented."
      ]
    },
    {
      "cell_type": "code",
      "source": [
        "##2. Describe the role of predefined keywords in Python and provide examples of how they are used in a\n",
        "\n",
        "\n",
        "# role of keywords:\n",
        "# keywords like if,elif,else,for,while,break,and continue manage the order in which code is executed.\n",
        "# keywords such as True,False,None,class and def define data types,create classes and define functions.\n",
        "# examples of keyword usage:\n",
        "# age = 20\n",
        "# if age >= 18:\n",
        "# print(\"Eligible to vote\")\n",
        "# elif age < 0:\n",
        "# print (\"invalid age\")\n",
        "# else :\n",
        "# print (\"not eligible to vote\")\n",
        "\n"
      ],
      "metadata": {
        "id": "VJ40zH2kCH7K"
      },
      "execution_count": null,
      "outputs": []
    },
    {
      "cell_type": "code",
      "source": [
        "##3. Compare and contrast mutable and immutable objects in Python with examples.\n",
        "\n",
        "#    Mutable                                     Immutable\n",
        "#    allow in place modification                do not allow modification\n",
        "#    more memory efficient for changes          less mrmory efficient for changes\n",
        "#    remains same when modified                 changes when a new value is assigned\n",
        "# Eg: Lists,Dictionaries,Sets               Eg: Strings, Tuples,Numbers,Frozen sets\n",
        "\n",
        "\n",
        "\n"
      ],
      "metadata": {
        "id": "6mwbibSHCTMN"
      },
      "execution_count": null,
      "outputs": []
    },
    {
      "cell_type": "code",
      "source": [
        "##4. Discuss the different types of operators in Python and provide examples of how they are used\n",
        "\n",
        "# Arithmetic operators: a+b = 11 , here + is the arithmetic operator\n",
        "# Logical operators:Boolean value (True or False,\"and\" and \"or\")\n",
        "# Assignment operator: left side is equal to the right side of assignment\n",
        "# Bitwise operator: perform bitwise calculations or integers\n",
        "# Comparison operators: compare two operands"
      ],
      "metadata": {
        "id": "KXbLHZBCI_s6"
      },
      "execution_count": null,
      "outputs": []
    },
    {
      "cell_type": "code",
      "source": [
        "##5. Explain the concept of type casting in Python with examples.\n",
        "\n",
        "# Type casting refers to the process of changing a variable data type from one type to another.\n",
        "# it is of two types - Implicit and Explicit\n",
        "# Implicit type casting: when the interpreter converts one data type to another without user intervention.\n",
        "# Eg: num_int = 123\n",
        "# num_float = 1.23\n",
        "# num_new = num_int + num_float\n",
        "# Explicit type casting: it occurs when the programmer uses built in functions to convert a variable from one data type to another.\n",
        "# Eg: num_str = \"123\"\n",
        "# num_int = int(num_str)\n",
        "# int,float,str,bool are the common type casting functions."
      ],
      "metadata": {
        "id": "-4hTU46CJQ-M"
      },
      "execution_count": null,
      "outputs": []
    },
    {
      "cell_type": "code",
      "source": [
        "##6. How do conditional statements work in Python? Illustrate with examples.\n",
        "\n",
        "# In python ,conditional statements allow execution of specific code blocks.The primary conditional statements are if,elif and else.\n",
        "# if statement evaluates a condition if the condition is true,executes the code block.\n",
        "# Eg: x = 10\n",
        "# if x > 5:\n",
        "#  print (\"x is greater than 5\")\n",
        "# elif statement allows checking multiple conditions in sequence.\n",
        "# Eg: x = 5\n",
        "# if x > 10:\n",
        "#  print (\"x is greater than 10\")\n",
        "# elif x == 5:\n",
        "#  print (\"x is equal to 5\")\n",
        "# else:\n",
        "#  print (\"x is less than 10\")\n",
        "# else statement provides a default code block to execute if none of the preceding if or elif conditions are true.\n",
        "\n",
        "\n"
      ],
      "metadata": {
        "id": "28wyEKRAtkzX"
      },
      "execution_count": null,
      "outputs": []
    },
    {
      "cell_type": "code",
      "source": [
        "##7. Describe the different types of loops in Python and their use cases with examples.\n",
        "\n",
        "# It allows to execute a block of code repeatedly.It is of two types- while loops and for loops.\n",
        "# while loop: repeatedly executes a block of code as long as a condition is true.\n",
        "#  Eg: count = 0\n",
        "# while count < 5:\n",
        "# print(count)\n",
        "# count += 1\n",
        "# for loop iterates over a sequence or other iterable objects.\n",
        "# Eg: fruits = [\"apple\",\"banana\",\"cherry\"]\n",
        "# for fruits in fruits:\n",
        "# print(fruit)\n",
        "# output:\n",
        "# apple\n",
        "# banana\n",
        "# cherry\n",
        "# for i in range (5):\n",
        "#  print (i)\n",
        "# output:\n",
        "# 0\n",
        "# 1\n",
        "# 2\n",
        "# 3\n",
        "# 4\n"
      ],
      "metadata": {
        "id": "2GCkSmV1xRB5"
      },
      "execution_count": 3,
      "outputs": []
    },
    {
      "cell_type": "code",
      "source": [],
      "metadata": {
        "id": "gabEyk8Y_Z3y"
      },
      "execution_count": null,
      "outputs": []
    }
  ]
}