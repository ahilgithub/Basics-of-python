{
  "cells": [
    {
      "cell_type": "markdown",
      "metadata": {
        "id": "view-in-github",
        "colab_type": "text"
      },
      "source": [
        "<a href=\"https://colab.research.google.com/github/ahilgithub/Basics-of-python/blob/main/3rd_Assignment.ipynb\" target=\"_parent\"><img src=\"https://colab.research.google.com/assets/colab-badge.svg\" alt=\"Open In Colab\"/></a>"
      ]
    },
    {
      "cell_type": "code",
      "execution_count": null,
      "metadata": {
        "id": "4JeYAcIzXz_q"
      },
      "outputs": [],
      "source": [
        "##1. What is the difference between a function and a method in Python?\n",
        "\n",
        "# Functions are independent blocks of code that can be called from anywhere,while methods are tied to objects or classes and need an object or class instance to be invoked.\n",
        "# Eg: # Function\n",
        "#       def add (x,y):\n",
        "#       return x + y\n",
        "# result = add (5,3)\n",
        "# print (result) # output : 8\n",
        "# Eg: # Method\n",
        "# class Dog:\n",
        "#     def_init_(self,name):\n",
        "#     self.name = name\n",
        "#    def bark (self):\n",
        "#        print(f\"{self.name}says woof!\")\n",
        "# my_dog = Dog (\"Buddy\")\n",
        "# my_dog.bark() # output: Buddy says woof!"
      ]
    },
    {
      "cell_type": "code",
      "execution_count": null,
      "metadata": {
        "id": "YtjPr2lReh88"
      },
      "outputs": [],
      "source": [
        "##2. Explain the concept of function arguments and parameters in Python.\n",
        "\n",
        "# A parameter is the variable listed inside the parentheses in the function definition.\n",
        "# An argument is the value that are sent to the function when it is called.\n",
        "# Eg: def fun ():\n",
        "#     print (\"welcome to GFG\") # output: wlcome to GFG"
      ]
    },
    {
      "cell_type": "code",
      "execution_count": null,
      "metadata": {
        "id": "ScFrDvwUhj9i"
      },
      "outputs": [],
      "source": [
        "##3. What are the different ways to define and call a function in Python?\n",
        "\n",
        "# a.Standard function definition\n",
        "# b.Lambda functions\n",
        "# c.Recursive functions\n",
        "# d.Nested functions\n",
        "# e.Functions with default arguments\n",
        "# f.Calling functions"
      ]
    },
    {
      "cell_type": "code",
      "execution_count": null,
      "metadata": {
        "id": "oCFowGnqivv5"
      },
      "outputs": [],
      "source": [
        "##4.. What is the purpose of the `return` statement in a Python function?\n",
        "\n",
        "# The return statement in a python serves two primary purposes:\n",
        "# Exiting the function:when a return statement is encountered within a function,it immediately terminates the function's execution.\n",
        "# Returning a value:the return statement can optionally specify a value to be sent back to the caller of the function."
      ]
    },
    {
      "cell_type": "code",
      "execution_count": null,
      "metadata": {
        "id": "UR9bN7oNlVXC"
      },
      "outputs": [],
      "source": [
        "##5. What are iterators in Python and how do they differ from iterables?\n",
        "\n",
        "# An iterable is basically an object that any user can iterate over.An iterator is also an object that helps a user in iterating over another object.\n",
        "# we can generate an iterator when we pass the object to the iter()method.\n",
        "# we use the _next_()method for iterating."
      ]
    },
    {
      "cell_type": "code",
      "execution_count": null,
      "metadata": {
        "id": "EYrKaWebm0PF"
      },
      "outputs": [],
      "source": [
        "##6.. Explain the concept of generators in Python and how they are defined.\n",
        "\n",
        "# When a generator function is called,it doesn't execute the function body immediately.Instead,it returns a generator object,which is an iterator.\n",
        "# A generator function is defined like a regular python function,but it uses the yield keyword within its body.\n",
        "# Eg: def my_generator(n):\n",
        "#          i = 0\n",
        "#     while i < n:\n",
        "#     yield i\n",
        "#      i += 1"
      ]
    },
    {
      "cell_type": "code",
      "execution_count": null,
      "metadata": {
        "id": "Mi5tOiBsrPIg"
      },
      "outputs": [],
      "source": [
        "##7. What are the advantages of using generators over regular functions?\n",
        "\n",
        "# Memory efficiency,Lazy loading,Flexibility,Infinite sequences,Readability,Speed,Maintain state,Convenience."
      ]
    },
    {
      "cell_type": "code",
      "execution_count": null,
      "metadata": {
        "id": "ywbnJrbksnzd"
      },
      "outputs": [],
      "source": [
        "##8. What is a lambda function in Python and when is it typically used?\n",
        "\n",
        "# Lambda is a keyword in python for defining the anonymous function.They are typically used for quick,simple operations that can be written in a single line."
      ]
    },
    {
      "cell_type": "code",
      "execution_count": null,
      "metadata": {
        "id": "iY3CUEzjtfNg"
      },
      "outputs": [],
      "source": [
        "##9. Explain the purpose and usage of the `map()` function in Python.\n",
        "\n",
        "# Map in python is a function that works as an iterator to return a result after applying a function to every item of an iterable.\n",
        "# Uses: Applying a function to all elements,Type conversion,Working with multiple iterables,simplifying code."
      ]
    },
    {
      "cell_type": "code",
      "execution_count": null,
      "metadata": {
        "id": "mhGqsdDJunJ-"
      },
      "outputs": [],
      "source": [
        "##10. What is the difference between `map()`, `reduce()`, and `filter()` functions in Python?\n",
        "\n",
        "# 'Map' applies a function to each element in an array and returns an array of the results,\n",
        "# 'Reduce' applies a function to the array and returns a single output,\n",
        "# 'Filter' uses a boolean function to select certain elements from an array."
      ]
    },
    {
      "cell_type": "code",
      "execution_count": 6,
      "metadata": {
        "id": "pUC2ox-7l_O5"
      },
      "outputs": [],
      "source": [
        "##11. Using pen & Paper write the internal mechanism for sum operation using  reduce function on this given\n",
        "list:[47,11,42,13];"
      ]
    },
    {
      "cell_type": "code",
      "source": [
        "from functools import reduce\n",
        "result = reduce(lambda x, y: x + y, [47, 11, 42, 13])\n",
        "print (result)\n"
      ],
      "metadata": {
        "colab": {
          "base_uri": "https://localhost:8080/"
        },
        "id": "NC83_2cG9JwZ",
        "outputId": "a1599166-1f5f-4145-c9d9-7190bb4c43ac"
      },
      "execution_count": 5,
      "outputs": [
        {
          "output_type": "stream",
          "name": "stdout",
          "text": [
            "113\n"
          ]
        }
      ]
    },
    {
      "cell_type": "code",
      "execution_count": null,
      "metadata": {
        "id": "mt-FNDRJsJEZ"
      },
      "outputs": [],
      "source": [
        "##1. Write a Python function that takes a list of numbers as input and returns the sum of all even numbers in\n",
        "#the list."
      ]
    },
    {
      "cell_type": "code",
      "execution_count": null,
      "metadata": {
        "colab": {
          "base_uri": "https://localhost:8080/"
        },
        "id": "3tbUrQGivkq1",
        "outputId": "4528ecc0-021f-4699-ebd7-f69916f426d6"
      },
      "outputs": [
        {
          "name": "stdout",
          "output_type": "stream",
          "text": [
            "12\n"
          ]
        }
      ],
      "source": [
        "list = [2,3,4,6,3,7,1]\n",
        "even_sum = 0\n",
        "for num in list:\n",
        "    if num % 2 == 0:\n",
        "        even_sum += num\n",
        "print (even_sum)"
      ]
    },
    {
      "cell_type": "code",
      "execution_count": null,
      "metadata": {
        "id": "yFj1bA4iwFjK"
      },
      "outputs": [],
      "source": [
        "##2. Create a Python function that accepts a string and returns the reverse of that string."
      ]
    },
    {
      "cell_type": "code",
      "execution_count": null,
      "metadata": {
        "colab": {
          "base_uri": "https://localhost:8080/"
        },
        "id": "fT9oJIVVw7_Q",
        "outputId": "bf70a936-1897-45ff-bba8-8979d5a2858d"
      },
      "outputs": [
        {
          "name": "stdout",
          "output_type": "stream",
          "text": [
            "sllikswp\n"
          ]
        }
      ],
      "source": [
        "str = \"pwskills\"\n",
        "rev = str[::-1]\n",
        "print (rev)"
      ]
    },
    {
      "cell_type": "code",
      "execution_count": null,
      "metadata": {
        "id": "wJxAzWR3xiJV"
      },
      "outputs": [],
      "source": [
        "##3. Implement a Python function that takes a list of integers and returns a new list containing the squares of\n",
        "#each number."
      ]
    },
    {
      "cell_type": "code",
      "execution_count": null,
      "metadata": {
        "colab": {
          "base_uri": "https://localhost:8080/"
        },
        "id": "Id2GFMNYxwiB",
        "outputId": "e366cbe2-a5d1-4aee-cf4a-b1cd5ff60e49"
      },
      "outputs": [
        {
          "name": "stdout",
          "output_type": "stream",
          "text": [
            "[4, 9, 16, 36, 9, 49, 1]\n"
          ]
        }
      ],
      "source": [
        "list = [2,3,4,6,3,7,1]\n",
        "squares = [x**2 for x in list]\n",
        "print (squares)\n",
        "#"
      ]
    },
    {
      "cell_type": "code",
      "execution_count": null,
      "metadata": {
        "id": "aVt0Sn06zA9J"
      },
      "outputs": [],
      "source": [
        "##4. Write a Python function that checks if a given number is prime or not from 1 to 200."
      ]
    },
    {
      "cell_type": "code",
      "source": [
        "def is_even_prime(num):\n",
        "    if num <= 1:\n",
        "        return False\n",
        "    if num <= 3:\n",
        "        return True\n",
        "    if num % 2 == 0 or num % 3 == 0:\n",
        "        return False"
      ],
      "metadata": {
        "id": "r5fBhY4-1dTK"
      },
      "execution_count": null,
      "outputs": []
    },
    {
      "cell_type": "code",
      "source": [
        "##5. Create an iterator class in Python that generates the Fibonacci sequence up to a specified number of\n",
        "#terms."
      ],
      "metadata": {
        "id": "iPjXifIF1neU"
      },
      "execution_count": null,
      "outputs": []
    },
    {
      "cell_type": "code",
      "source": [
        "def fibonacci_generator(n):\n",
        "    a, b = 0, 1\n",
        "    for _ in range(n):\n",
        "        yield a\n",
        "        a, b = b, a + b"
      ],
      "metadata": {
        "id": "vvqqrTK_16dd"
      },
      "execution_count": null,
      "outputs": []
    },
    {
      "cell_type": "code",
      "source": [
        "##6. Write a generator function in Python that yields the powers of 2 up to a given exponent."
      ],
      "metadata": {
        "id": "BME8ejBl2RDk"
      },
      "execution_count": null,
      "outputs": []
    },
    {
      "cell_type": "code",
      "source": [
        "def fun (max):\n",
        "  cnt = 1\n",
        "  while cnt <= max:\n",
        "    yield 2 ** cnt"
      ],
      "metadata": {
        "id": "TvIx4FRQ2jpG"
      },
      "execution_count": null,
      "outputs": []
    },
    {
      "cell_type": "code",
      "source": [
        "##7. Implement a generator function that reads a file line by line and yields each line as a string."
      ],
      "metadata": {
        "id": "YAKpvHGF3OOY"
      },
      "execution_count": null,
      "outputs": []
    },
    {
      "cell_type": "code",
      "source": [
        "L = [\"pwskills\\n\",\"for\\n\",\"pwskills\\n\"]\n",
        "with open (\"test.txt\",\"w\") as f:\n",
        "    f.writelines(L)\n",
        "    count = 0\n",
        "    for line in open (\"test.txt\",\"r\"):\n",
        "        count += 1\n",
        "        print (\"line{}:{}\".format(count,line.strip()))\n",
        "        count = 0\n",
        "        print (\"line{}:{}\".format(count,line.strip()))\n",
        "        count = 0\n",
        "        print (\"\\nusing for loop\")\n",
        "        for line in open (\"test.txt\",\"r\"):\n",
        "            count += 1\n",
        "            print (\"line{}:{}\".format(count,line.strip()))"
      ],
      "metadata": {
        "id": "oc0lA3jz3l9Z"
      },
      "execution_count": null,
      "outputs": []
    },
    {
      "cell_type": "code",
      "source": [
        "##8. Use a lambda function in Python to sort a list of tuples based on the second element of each tuple."
      ],
      "metadata": {
        "id": "V0J7DCPf4dDB"
      },
      "execution_count": null,
      "outputs": []
    },
    {
      "cell_type": "code",
      "source": [
        "a = [(1,3),(4,1),(9,0)]\n",
        "a.sort(key = lambda x:x[1])\n",
        "print (a)"
      ],
      "metadata": {
        "colab": {
          "base_uri": "https://localhost:8080/"
        },
        "id": "Mjj8IkHl5f2Z",
        "outputId": "c83e2e8f-1115-4e15-dc98-a7dadba3208e"
      },
      "execution_count": null,
      "outputs": [
        {
          "output_type": "stream",
          "name": "stdout",
          "text": [
            "[(9, 0), (4, 1), (1, 3)]\n"
          ]
        }
      ]
    },
    {
      "cell_type": "code",
      "source": [
        "##9. Write a Python program that uses `map()` to convert a list of temperatures from Celsius to Fahrenheit."
      ],
      "metadata": {
        "id": "l7G95r8D5-NQ"
      },
      "execution_count": null,
      "outputs": []
    },
    {
      "cell_type": "code",
      "source": [
        "celsius = 47\n",
        "fahrenheit = (celsius * 1.8) + 32\n",
        "print (fahrenheit)"
      ],
      "metadata": {
        "colab": {
          "base_uri": "https://localhost:8080/"
        },
        "id": "3rduRroK6eGK",
        "outputId": "919206e1-966e-47dd-b774-965f9bf7c86f"
      },
      "execution_count": null,
      "outputs": [
        {
          "output_type": "stream",
          "name": "stdout",
          "text": [
            "116.60000000000001\n"
          ]
        }
      ]
    },
    {
      "cell_type": "code",
      "source": [
        "##10. Create a Python program that uses `filter()` to remove all the vowels from a given string."
      ],
      "metadata": {
        "id": "hbDgA3mJ6u1l"
      },
      "execution_count": null,
      "outputs": []
    },
    {
      "cell_type": "code",
      "source": [
        "def remove_vowels(string):\n",
        "    vowels = \"aeiouAEIOU\"\n",
        "    result = \"Hello world\"\n",
        "    output_string = remove_vowels (result)\n",
        "    print (output_string)"
      ],
      "metadata": {
        "id": "3EbQ-rQ064st"
      },
      "execution_count": null,
      "outputs": []
    },
    {
      "cell_type": "code",
      "source": [
        "##11. Imagine an accounting routine used in a book shop. It works on a list with sublists, which look like this:"
      ],
      "metadata": {
        "id": "g4nETA1s7H5u"
      },
      "execution_count": null,
      "outputs": []
    },
    {
      "cell_type": "code",
      "source": [
        "# Given data\n",
        "orders = [\n",
        "    [34587, \"Learning Python, Mark Lutz\", 4, 40.95],\n",
        "    [98762, \"Programming Python, Mark Lutz\", 5, 56.80],\n",
        "    [77226, \"Head First Python, Paul Barry\", 3, 32.95],\n",
        "    [88112, \"Einführung in Python3, Bernd Klein\", 3, 24.99]\n",
        "]\n",
        "\n",
        "# Using lambda and map to process the orders\n",
        "result = list(map(lambda order: (order[0], round(order[2] * order[3] + (10 if order[2] * order[3] < 100 else 0), 2)), orders))\n",
        "\n",
        "# Print the result\n",
        "print(result)\n"
      ],
      "metadata": {
        "colab": {
          "base_uri": "https://localhost:8080/"
        },
        "id": "GxcwlAny7DFq",
        "outputId": "405236e7-78a5-49d6-b721-7522d937aadc"
      },
      "execution_count": 2,
      "outputs": [
        {
          "output_type": "stream",
          "name": "stdout",
          "text": [
            "[(34587, 163.8), (98762, 284.0), (77226, 108.85), (88112, 84.97)]\n"
          ]
        }
      ]
    },
    {
      "cell_type": "code",
      "source": [],
      "metadata": {
        "id": "1lbo9Tjf7Gqr"
      },
      "execution_count": null,
      "outputs": []
    }
  ],
  "metadata": {
    "colab": {
      "provenance": [],
      "authorship_tag": "ABX9TyNahqraUtcwzcStLIl4Vg2x",
      "include_colab_link": true
    },
    "kernelspec": {
      "display_name": "Python 3",
      "name": "python3"
    },
    "language_info": {
      "name": "python"
    }
  },
  "nbformat": 4,
  "nbformat_minor": 0
}