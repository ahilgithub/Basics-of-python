{
  "nbformat": 4,
  "nbformat_minor": 0,
  "metadata": {
    "colab": {
      "provenance": [],
      "authorship_tag": "ABX9TyOn/rAe5L439RPzs95Q+got",
      "include_colab_link": true
    },
    "kernelspec": {
      "name": "python3",
      "display_name": "Python 3"
    },
    "language_info": {
      "name": "python"
    }
  },
  "cells": [
    {
      "cell_type": "markdown",
      "metadata": {
        "id": "view-in-github",
        "colab_type": "text"
      },
      "source": [
        "<a href=\"https://colab.research.google.com/github/ahilgithub/Basics-of-python/blob/main/2nd_assignment.ipynb\" target=\"_parent\"><img src=\"https://colab.research.google.com/assets/colab-badge.svg\" alt=\"Open In Colab\"/></a>"
      ]
    },
    {
      "cell_type": "code",
      "execution_count": null,
      "metadata": {
        "id": "0UCKUQM6SznG"
      },
      "outputs": [],
      "source": [
        "##1.What are data structures, and why are they important?\n",
        "\n",
        "# Data Structures are a specific way of organizing data in a specialized format on a computer so that the information can be organized and stored.\n",
        "# 1.Managing complexity\n",
        "# 2.Strategic storage use\n",
        "# 3.Reusability\n",
        "# 4.Inversion\n"
      ]
    },
    {
      "cell_type": "code",
      "source": [
        "##2.Explain the difference between mutable and immutable data types with examples.\n",
        "\n",
        "# The main difference between mutable and immutable data types is that mutable data types can be changed after creation,while immutable data types cannot.\n",
        "# Mutable: Eg- Lists,Dictionaries,Sets >>ideal for situations where changes to the object are frequent,e.g.,dynamic data storage\n",
        "# list1 = [1,2,3] >> list1 [0] = 10\n",
        "# Immutable: Eg- Integers,Floats,Strings,Tuples,Frozensets>>ideal when the object should remain constant throughout the program,e.g.,keys in dictionaries.\n",
        "# string1 =\"hello\" >>string1 [0] = \"H\"\n"
      ],
      "metadata": {
        "id": "6qseme1nVTEb"
      },
      "execution_count": null,
      "outputs": []
    },
    {
      "cell_type": "code",
      "source": [
        "##3. What are the main differences between lists and tuples in Python?\n",
        "\n",
        "# Lists and Tuples are both fundamental data structures in python,used to store collections of items.\n",
        "# Lists are defined using square brackets[]. For eg: my_list = [1,\"hello\",3.14]\n",
        "# Tuples are defined using parentheses(). For eg: my_tuple = (1,\"hello\",3.14). Atuple with a single element requires a trailing comma:(element,).\n"
      ],
      "metadata": {
        "id": "agrDtuEzYqEY"
      },
      "execution_count": null,
      "outputs": []
    },
    {
      "cell_type": "code",
      "source": [
        "##4.Describe how dictionaries store data.\n",
        "\n",
        "# Dictionaries are used to store data values in key:value pairs.A dictionary is a collection which is ordered, changeable and do not allow duplicates.\n",
        "# my_dict = {}\n",
        "# print (my_dict)\n",
        "# dictionary with keys as integer > my_dict = {1:'one',2:'two'}\n",
        "# print (my_dict)"
      ],
      "metadata": {
        "id": "Wl_Oj9gybE-w"
      },
      "execution_count": null,
      "outputs": []
    },
    {
      "cell_type": "code",
      "source": [
        "##5. Why might you use a set instead of a list in Python.\n",
        "\n",
        "# 1.uniqueness >>cannot contain duplicate elements\n",
        "# 2.membership testing >>sets are significantly faster than lists\n",
        "# 3.removing duplicates>>by converting list to a set, the duplicate elements are automatically eliminated.\n",
        "# 4.order is not important.\n",
        "# 5.set operations are needed."
      ],
      "metadata": {
        "id": "UFgc3QZEdhNW"
      },
      "execution_count": null,
      "outputs": []
    },
    {
      "cell_type": "code",
      "source": [
        "##6. What is a string in Python, and how is it different from a list.\n",
        "\n",
        "# A string is a sequence of characters between single or double quotes.A list is a sequence of items,where each item could be anything(an integer,float etc).\n",
        "# Both strings and lists have lengths:a string's length is the number of characters in the string;a list's length is the number of items in the list.\n",
        "# we can access individual characters in a string,or items in a list,using square-bracket indexing.\n",
        "\n"
      ],
      "metadata": {
        "id": "Sd9b5VqchVN1"
      },
      "execution_count": null,
      "outputs": []
    },
    {
      "cell_type": "code",
      "source": [
        "##7. How do tuples ensure data integrity in Python.\n",
        "\n",
        "# Tuples in python ensure data integrity through their immutability.Once a tuple is created,its elements cannot be modified,added,or removed.\n",
        "# 1.Prevention of Accidental Modification\n",
        "# 2.Guarantee of Data Consistency\n",
        "# 3.Suitability for use as Dictionary keys\n",
        "# 4.Enhanced Performance\n",
        "# 5.Protection against unauthorized changes."
      ],
      "metadata": {
        "id": "NPGvqYjM-nRw"
      },
      "execution_count": null,
      "outputs": []
    },
    {
      "cell_type": "code",
      "source": [
        "##8. What is a hash table, and how does it relate to dictionaries in Python.\n",
        "\n",
        "# A hash table is a data structure that stores key-value pairs.It uses a hash function to compute an index(hash code)for each key,which determines the position.\n",
        "# Eg: In python,dictionaries are implemented using hash tables.\n",
        "# when a key-value pair is added to a dictionary,python calculates the hash value of the key and uses it to determine the index in the underlying hash table where the value is stored.\n"
      ],
      "metadata": {
        "id": "P0YylKvRC7Kp"
      },
      "execution_count": null,
      "outputs": []
    },
    {
      "cell_type": "code",
      "source": [
        "##9.Can lists contain different data types in Python.\n",
        "\n",
        "# Yes,a list in python can contain elements of different data types.Python lists are versatile and do not enforce a single data type constraint on their elements.\n",
        "# This means you can have a list containing integers,strings,floats,booleans,or even other lists,all within the same list.\n",
        "# Eg: my_list = [1,\"hello\",3.14,True,{1,2,3}]\n"
      ],
      "metadata": {
        "id": "D3JCfnPBC6WV"
      },
      "execution_count": null,
      "outputs": []
    },
    {
      "cell_type": "code",
      "source": [
        "##10. Explain why strings are immutable in Python.\n",
        "\n",
        "# In python,immutability means that once an object is created,its internal state cannot be changed.\n",
        "# Reasons for string immutability:\n",
        "# Efficiency,Thread safety,String interning,security,Hashable."
      ],
      "metadata": {
        "id": "l_TsQ2FUBdjq"
      },
      "execution_count": null,
      "outputs": []
    },
    {
      "cell_type": "code",
      "source": [
        "##11.What advantages do dictionaries offer over lists for certain tasks.\n",
        "\n",
        "# Dictionaries in Python offer fast data retrieval;unlike lists where you have to traverse through each element to find a value,\n",
        "# dictionaries use hash tables for quick access to values based on keys."
      ],
      "metadata": {
        "id": "A3iCGL7J5kmO"
      },
      "execution_count": null,
      "outputs": []
    },
    {
      "cell_type": "code",
      "source": [
        "##12. Describe a scenario where using a tuple would be preferable over a list.\n",
        "\n",
        "# Tuples are faster than lists.Tuples make the code safe from any accidental modification.If a data is needed in a program which is not supposed to be changed,\n",
        "# then it is better to put it in 'tuples'than in 'list'.\n"
      ],
      "metadata": {
        "id": "lZLuJbsX6-qk"
      },
      "execution_count": null,
      "outputs": []
    },
    {
      "cell_type": "code",
      "source": [
        "##13. How do sets handle duplicate values in Python.\n",
        "\n",
        "# Sets in Python are designed to store only unique elements.When attempting to add a duplicate value to a set,the set automatically discards the duplicate,\n",
        "# ensuring that it maintains its property of containing only distinct elements.\n"
      ],
      "metadata": {
        "id": "du_bKjBd8xKQ"
      },
      "execution_count": null,
      "outputs": []
    },
    {
      "cell_type": "code",
      "source": [
        "##14.How does the “in” keyword work differently for lists and dictionaries.\n",
        "\n",
        "# The 'in'keyword in Python returns True if a certain element is present in a Python object,else it will return False.\n",
        "# It has two purposes:to check if a value is present in a list,tuple,range,string,etc.To iterate through a sequence in a for loop.\n"
      ],
      "metadata": {
        "id": "283oSnZQ_6E-"
      },
      "execution_count": null,
      "outputs": []
    },
    {
      "cell_type": "code",
      "source": [
        "##15. Can you modify the elements of a tuple? Explain why or why not.\n",
        "\n",
        "# No,you cannot modify the elements of a tuple in Python because tuples are \"immutable,\"meaning once created,their elements cannot be changed,added,or removed;\n",
        "# unlike lists which are mutable and allow for modifications.\n"
      ],
      "metadata": {
        "id": "gynrHMkaDiap"
      },
      "execution_count": null,
      "outputs": []
    },
    {
      "cell_type": "code",
      "source": [
        "##16. What is a nested dictionary, and give an example of its use case.\n",
        "\n",
        "# A nested dictionary is a dictionary that contains other dictionaries,and is used to represent data with multiple levels of organization.\n",
        "# Here are some examples of use cases for nested dictionaries: Employee records,Inventory systems,JSON data.\n",
        "# In Python,you can create a nested dictionary by placing comma-separated dictionaries enclosed within braces.\n",
        "# For example,an empty nested dictionary would be Dict = {'Dict1' : {},'Dict2' : {}}.\n"
      ],
      "metadata": {
        "id": "oki4fCiIGQzX"
      },
      "execution_count": null,
      "outputs": []
    },
    {
      "cell_type": "code",
      "source": [
        "##17.Describe the time complexity of accessing elements in a dictionary.\n",
        "\n",
        "# The time complexity of accessing elements in a Python dictionary is O(1)on average,which means it takes a constant amount of time to retrieve a value by its key:\n",
        "# Here are the time complexities of some other common dictionary operations in Python:\n",
        "# Adding a key-value pair;Modifying a value by key;Removing a key-value pair by key;Iterating over the keys,values,or items.\n"
      ],
      "metadata": {
        "id": "_T30UnrQL3IF"
      },
      "execution_count": null,
      "outputs": []
    },
    {
      "cell_type": "code",
      "source": [
        "##18. In what situations are lists preferred over dictionaries.\n",
        "\n",
        "# If you need an ordered collection,like a sequence of user actions,lists are your go-to.On the other hand,when you need quick look-ups,\n",
        "# like mapping usernames to user data,dictionaries are invaluable.\n"
      ],
      "metadata": {
        "id": "_yrGM_y2QY4V"
      },
      "execution_count": null,
      "outputs": []
    },
    {
      "cell_type": "code",
      "source": [
        "##19. Why are dictionaries considered unordered, and how does that affect data retrieval.\n",
        "\n",
        "# Dictionaries maintain the insertion order of keys.This means that when you iterate over a dictionary,the keys will be returned in the order they were added.\n",
        "# Dictionaries were considered unordered,meaning that the order of keys was not guaranteed.\n"
      ],
      "metadata": {
        "id": "5cm6_Pw0Ty78"
      },
      "execution_count": null,
      "outputs": []
    },
    {
      "cell_type": "code",
      "source": [
        "##20. Explain the difference between a list and a dictionary in terms of data retrieval.\n",
        "\n",
        "# A list is an ordered collection of items,whereas a dictionary is an unordered data collection in a key:value pair.\n",
        "# Elements from the list can be accessed using the index,while the elements of the dictionary can be accessed using keys."
      ],
      "metadata": {
        "id": "fnQEpUiFYssG"
      },
      "execution_count": null,
      "outputs": []
    },
    {
      "cell_type": "code",
      "source": [
        "##1. Write a code to create a string with your name and print it.\n"
      ],
      "metadata": {
        "id": "1PY84EFg_pyx"
      },
      "execution_count": null,
      "outputs": []
    },
    {
      "cell_type": "code",
      "source": [
        "name = \"Ahilya\"\n",
        "print (name)"
      ],
      "metadata": {
        "colab": {
          "base_uri": "https://localhost:8080/"
        },
        "id": "WNsy6AMSCsBx",
        "outputId": "a233c0e8-359d-40ea-813a-1ecb215eec52"
      },
      "execution_count": null,
      "outputs": [
        {
          "output_type": "stream",
          "name": "stdout",
          "text": [
            "Ahilya\n"
          ]
        }
      ]
    },
    {
      "cell_type": "code",
      "source": [
        "##2. Write a code to find the length of the string \"Hello World\"."
      ],
      "metadata": {
        "id": "igSbPtKZDgzs"
      },
      "execution_count": null,
      "outputs": []
    },
    {
      "cell_type": "code",
      "source": [
        "print (\"Hello World\")"
      ],
      "metadata": {
        "colab": {
          "base_uri": "https://localhost:8080/"
        },
        "id": "5nD1mamtFXcl",
        "outputId": "f3ba6c94-47e1-4658-d1aa-14bd410d68d5"
      },
      "execution_count": null,
      "outputs": [
        {
          "output_type": "stream",
          "name": "stdout",
          "text": [
            "Hello World\n"
          ]
        }
      ]
    },
    {
      "cell_type": "code",
      "source": [
        "##3. Write a code to slice the first 3 characters from the string \"Python Programming\"."
      ],
      "metadata": {
        "id": "dILuZf7EGIKI"
      },
      "execution_count": null,
      "outputs": []
    },
    {
      "cell_type": "code",
      "source": [
        "str = \"python programming\"\n",
        "first_three = str[:3]\n",
        "print (first_three)"
      ],
      "metadata": {
        "colab": {
          "base_uri": "https://localhost:8080/"
        },
        "id": "EGLLDpifKAAS",
        "outputId": "f8481fdf-2700-448b-b8c4-967a84aefe26"
      },
      "execution_count": null,
      "outputs": [
        {
          "output_type": "stream",
          "name": "stdout",
          "text": [
            "pyt\n"
          ]
        }
      ]
    },
    {
      "cell_type": "code",
      "source": [
        "##4.Write a code to convert the string \"hello\" to uppercase."
      ],
      "metadata": {
        "id": "BzsEGOw9KnBn"
      },
      "execution_count": null,
      "outputs": []
    },
    {
      "cell_type": "code",
      "source": [
        "str = \"hello\"\n",
        "print (str.upper())"
      ],
      "metadata": {
        "colab": {
          "base_uri": "https://localhost:8080/"
        },
        "id": "hy3E6y61K679",
        "outputId": "76f6ea83-7b32-427c-b9ca-c58d77dfc73a"
      },
      "execution_count": null,
      "outputs": [
        {
          "output_type": "stream",
          "name": "stdout",
          "text": [
            "HELLO\n"
          ]
        }
      ]
    },
    {
      "cell_type": "code",
      "source": [
        "##5.Write a code to replace the word \"apple\" with \"orange\" in the string \"I like apple\"."
      ],
      "metadata": {
        "id": "BkTPuuOZLIV1"
      },
      "execution_count": null,
      "outputs": []
    },
    {
      "cell_type": "code",
      "source": [
        "str = \"I like apple\"\n",
        "print (str.replace(\"apple\",\"orange\"))"
      ],
      "metadata": {
        "colab": {
          "base_uri": "https://localhost:8080/"
        },
        "id": "_ltoYwW1LdSy",
        "outputId": "42b3ccd7-8d0e-41a4-e9e1-9ee47a2f1196"
      },
      "execution_count": null,
      "outputs": [
        {
          "output_type": "stream",
          "name": "stdout",
          "text": [
            "I like orange\n"
          ]
        }
      ]
    },
    {
      "cell_type": "code",
      "source": [
        "##6. Write a code to create a list with numbers 1 to 5 and print it."
      ],
      "metadata": {
        "id": "4aPOu_lZMJaZ"
      },
      "execution_count": null,
      "outputs": []
    },
    {
      "cell_type": "code",
      "source": [
        "list = [1,2,3,4,5]\n",
        "print (list)"
      ],
      "metadata": {
        "colab": {
          "base_uri": "https://localhost:8080/"
        },
        "id": "xzi_t-AfMbUc",
        "outputId": "b80dc67c-0643-4837-a78a-a62caecbd77e"
      },
      "execution_count": null,
      "outputs": [
        {
          "output_type": "stream",
          "name": "stdout",
          "text": [
            "[1, 2, 3, 4, 5]\n"
          ]
        }
      ]
    },
    {
      "cell_type": "code",
      "source": [
        "##7.Write a code to append the number 10 to the list [1, 2, 3, 4]."
      ],
      "metadata": {
        "id": "8hQBRYviMygt"
      },
      "execution_count": null,
      "outputs": []
    },
    {
      "cell_type": "code",
      "source": [
        "input = [1,2,3,4]\n",
        "input.append(10)\n",
        "print (input)"
      ],
      "metadata": {
        "colab": {
          "base_uri": "https://localhost:8080/"
        },
        "id": "lZIk2iYSNCdq",
        "outputId": "3e723aab-c066-4b6d-ae00-8b4316a2c808"
      },
      "execution_count": null,
      "outputs": [
        {
          "output_type": "stream",
          "name": "stdout",
          "text": [
            "[1, 2, 3, 4, 10]\n"
          ]
        }
      ]
    },
    {
      "cell_type": "code",
      "source": [
        "##8. Write a code to remove the number 3 from the list [1, 2, 3, 4, 5]."
      ],
      "metadata": {
        "id": "jxAd95fuNSsI"
      },
      "execution_count": null,
      "outputs": []
    },
    {
      "cell_type": "code",
      "source": [
        "input = [1,2,3,4,5]\n",
        "input.remove(3)\n",
        "print (input)"
      ],
      "metadata": {
        "colab": {
          "base_uri": "https://localhost:8080/"
        },
        "id": "1e22zUFCNo_R",
        "outputId": "76bd9855-002f-4ad5-b3f6-12d1e1c376e2"
      },
      "execution_count": null,
      "outputs": [
        {
          "output_type": "stream",
          "name": "stdout",
          "text": [
            "[1, 2, 4, 5]\n"
          ]
        }
      ]
    },
    {
      "cell_type": "code",
      "source": [
        "##9.Write a code to access the second element in the list ['a', 'b', 'c', 'd']."
      ],
      "metadata": {
        "id": "xOjPffd4N8iQ"
      },
      "execution_count": null,
      "outputs": []
    },
    {
      "cell_type": "code",
      "source": [
        "print (['a','b','c','d'][1])"
      ],
      "metadata": {
        "colab": {
          "base_uri": "https://localhost:8080/"
        },
        "id": "Zc4WLCQXOLT6",
        "outputId": "9b6d06ff-4866-484e-9d85-b40c517d633d"
      },
      "execution_count": null,
      "outputs": [
        {
          "output_type": "stream",
          "name": "stdout",
          "text": [
            "b\n"
          ]
        }
      ]
    },
    {
      "cell_type": "code",
      "source": [
        "##10. Write a code to reverse the list [10, 20, 30, 40, 50]."
      ],
      "metadata": {
        "id": "dNOQT7YdO6z3"
      },
      "execution_count": null,
      "outputs": []
    },
    {
      "cell_type": "code",
      "source": [
        "my_list = [10,20,30,40,50]\n",
        "my_list.reverse()\n",
        "print (my_list)"
      ],
      "metadata": {
        "colab": {
          "base_uri": "https://localhost:8080/"
        },
        "id": "srMjmx66PJhy",
        "outputId": "8051adfb-e503-4bba-bcb4-b65c6cbb0c0c"
      },
      "execution_count": null,
      "outputs": [
        {
          "output_type": "stream",
          "name": "stdout",
          "text": [
            "[50, 40, 30, 20, 10]\n"
          ]
        }
      ]
    },
    {
      "cell_type": "code",
      "source": [
        "##11. Write a code to create a tuple with the elements 10, 20, 30 and print it."
      ],
      "metadata": {
        "id": "kxBaoTZiPUQM"
      },
      "execution_count": null,
      "outputs": []
    },
    {
      "cell_type": "code",
      "source": [
        "tuple = (10,20,30)\n",
        "print (tuple)"
      ],
      "metadata": {
        "colab": {
          "base_uri": "https://localhost:8080/"
        },
        "id": "XhhktD9GPiB4",
        "outputId": "6edb5498-212a-412e-e16e-15e306286d96"
      },
      "execution_count": null,
      "outputs": [
        {
          "output_type": "stream",
          "name": "stdout",
          "text": [
            "(10, 20, 30)\n"
          ]
        }
      ]
    },
    {
      "cell_type": "code",
      "source": [
        "##12. Write a code to access the first element of the tuple ('apple', 'banana', 'cherry')."
      ],
      "metadata": {
        "id": "cXh7oE1QP0on"
      },
      "execution_count": null,
      "outputs": []
    },
    {
      "cell_type": "code",
      "source": [
        "tuple = ('apple','banana','cherry')\n",
        "print (tuple[0])"
      ],
      "metadata": {
        "colab": {
          "base_uri": "https://localhost:8080/"
        },
        "id": "OkEiE2qwQH2N",
        "outputId": "7b5adf2a-5e4c-48e8-99d7-9a171d1281a7"
      },
      "execution_count": null,
      "outputs": [
        {
          "output_type": "stream",
          "name": "stdout",
          "text": [
            "apple\n"
          ]
        }
      ]
    },
    {
      "cell_type": "code",
      "source": [
        "##13. Write a code to count how many times the number 2 appears in the tuple (1, 2, 3, 2, 4, 2)."
      ],
      "metadata": {
        "id": "1fAF3oV8XCoe"
      },
      "execution_count": null,
      "outputs": []
    },
    {
      "cell_type": "code",
      "source": [
        "tuple = (1,2,3,2,4,2)\n",
        "print (tuple.count(2))"
      ],
      "metadata": {
        "colab": {
          "base_uri": "https://localhost:8080/"
        },
        "id": "9pZAkAnEXROY",
        "outputId": "eb8039e9-1e96-432b-ac4d-5a76fe462ed1"
      },
      "execution_count": null,
      "outputs": [
        {
          "output_type": "stream",
          "name": "stdout",
          "text": [
            "3\n"
          ]
        }
      ]
    },
    {
      "cell_type": "code",
      "source": [
        "##14.. Write a code to find the index of the element \"cat\" in the tuple ('dog', 'cat', 'rabbit')."
      ],
      "metadata": {
        "id": "Mb8NYijDXpPs"
      },
      "execution_count": null,
      "outputs": []
    },
    {
      "cell_type": "code",
      "source": [
        "tuple = ('dog','cat','rabbit')\n",
        "print (tuple.index('cat'))"
      ],
      "metadata": {
        "colab": {
          "base_uri": "https://localhost:8080/"
        },
        "id": "2JakDpalX38u",
        "outputId": "66db7602-3180-496c-ecea-38c972f27643"
      },
      "execution_count": null,
      "outputs": [
        {
          "output_type": "stream",
          "name": "stdout",
          "text": [
            "1\n"
          ]
        }
      ]
    },
    {
      "cell_type": "code",
      "source": [
        "##15. Write a code to check if the element \"banana\" is in the tuple ('apple', 'orange', 'banana')."
      ],
      "metadata": {
        "id": "8ECZoPFkX9ic"
      },
      "execution_count": null,
      "outputs": []
    },
    {
      "cell_type": "code",
      "source": [
        "tuple = ('apple','orange','banana')\n",
        "print ('banana' in tuple)"
      ],
      "metadata": {
        "colab": {
          "base_uri": "https://localhost:8080/"
        },
        "id": "m_EIkBZ8YUvy",
        "outputId": "ef482825-3bf3-4ed4-a673-95b608668171"
      },
      "execution_count": null,
      "outputs": [
        {
          "output_type": "stream",
          "name": "stdout",
          "text": [
            "True\n"
          ]
        }
      ]
    },
    {
      "cell_type": "code",
      "source": [
        "##16. Write a code to create a set with the elements 1, 2, 3, 4, 5 and print it."
      ],
      "metadata": {
        "id": "7Mhl2HdaYZOW"
      },
      "execution_count": null,
      "outputs": []
    },
    {
      "cell_type": "code",
      "source": [
        "list = {1,2,3,4,5}\n",
        "print (list)"
      ],
      "metadata": {
        "colab": {
          "base_uri": "https://localhost:8080/"
        },
        "id": "zXE3G6w9YiRQ",
        "outputId": "5db16d2a-8859-40de-fa0d-a146a78f6051"
      },
      "execution_count": null,
      "outputs": [
        {
          "output_type": "stream",
          "name": "stdout",
          "text": [
            "{1, 2, 3, 4, 5}\n"
          ]
        }
      ]
    },
    {
      "cell_type": "code",
      "source": [
        "##17. Write a code to add the element 6 to the set {1, 2, 3, 4}."
      ],
      "metadata": {
        "id": "MHcqaTzoZA5X"
      },
      "execution_count": null,
      "outputs": []
    },
    {
      "cell_type": "code",
      "source": [
        "set_1 = {1,2,3,4}\n",
        "set_1.add (6)\n",
        "print (set_1)"
      ],
      "metadata": {
        "colab": {
          "base_uri": "https://localhost:8080/"
        },
        "id": "qZauP7kVZORu",
        "outputId": "31751fdc-560e-4a7f-b2af-38d062a06881"
      },
      "execution_count": null,
      "outputs": [
        {
          "output_type": "stream",
          "name": "stdout",
          "text": [
            "{1, 2, 3, 4, 6}\n"
          ]
        }
      ]
    },
    {
      "cell_type": "code",
      "source": [
        "##18. Write a code to create a tuple with the elements 10, 20, 30 and print it."
      ],
      "metadata": {
        "id": "pPuQVlT3aWVq"
      },
      "execution_count": null,
      "outputs": []
    },
    {
      "cell_type": "code",
      "source": [
        "tuple = (10,20,30)\n",
        "print (tuple)"
      ],
      "metadata": {
        "colab": {
          "base_uri": "https://localhost:8080/"
        },
        "id": "SrZksGHsam0Y",
        "outputId": "a01e5a78-af57-4ed7-c127-e62fc2a8df7e"
      },
      "execution_count": null,
      "outputs": [
        {
          "output_type": "stream",
          "name": "stdout",
          "text": [
            "(10, 20, 30)\n"
          ]
        }
      ]
    },
    {
      "cell_type": "code",
      "source": [
        "##19. Write a code to access the first element of the tuple ('apple', 'banana', 'cherry')."
      ],
      "metadata": {
        "id": "BOzDorG2ateZ"
      },
      "execution_count": null,
      "outputs": []
    },
    {
      "cell_type": "code",
      "source": [
        "tuple = ('apple','banana','cherry')\n",
        "print (tuple[0])"
      ],
      "metadata": {
        "colab": {
          "base_uri": "https://localhost:8080/"
        },
        "id": "2sSf00frbDP_",
        "outputId": "429ee0a3-fd23-4921-914c-0d011fe6a501"
      },
      "execution_count": null,
      "outputs": [
        {
          "output_type": "stream",
          "name": "stdout",
          "text": [
            "apple\n"
          ]
        }
      ]
    },
    {
      "cell_type": "code",
      "source": [
        "##20. Write a code to count how many times the number 2 appears in the tuple (1, 2, 3, 2, 4, 2)."
      ],
      "metadata": {
        "id": "Y5kw8cwxbISb"
      },
      "execution_count": null,
      "outputs": []
    },
    {
      "cell_type": "code",
      "source": [
        "tuple = (1,2,3,2,4,2)\n",
        "print (tuple.count(2))"
      ],
      "metadata": {
        "colab": {
          "base_uri": "https://localhost:8080/"
        },
        "id": "UsAxU44NbSB5",
        "outputId": "ab27e191-8019-43e4-a88d-4cdbde36b25a"
      },
      "execution_count": null,
      "outputs": [
        {
          "output_type": "stream",
          "name": "stdout",
          "text": [
            "3\n"
          ]
        }
      ]
    },
    {
      "cell_type": "code",
      "source": [
        "##21. Write a code to find the index of the element \"cat\" in the tuple ('dog', 'cat', 'rabbit')."
      ],
      "metadata": {
        "id": "9k9ru6OSbpW2"
      },
      "execution_count": null,
      "outputs": []
    },
    {
      "cell_type": "code",
      "source": [
        "tuple = ('dog','cat','rabbit')\n",
        "print (tuple.index('cat'))"
      ],
      "metadata": {
        "colab": {
          "base_uri": "https://localhost:8080/"
        },
        "id": "MZNhWqhgbyyA",
        "outputId": "9df2449d-d500-4d6c-97d0-73b93584d70b"
      },
      "execution_count": null,
      "outputs": [
        {
          "output_type": "stream",
          "name": "stdout",
          "text": [
            "1\n"
          ]
        }
      ]
    },
    {
      "cell_type": "code",
      "source": [
        "##22. Write a code to check if the element \"banana\" is in the tuple ('apple', 'orange', 'banana').\n",
        "\n"
      ],
      "metadata": {
        "id": "HkRhg-obb5Y6"
      },
      "execution_count": null,
      "outputs": []
    },
    {
      "cell_type": "code",
      "source": [
        "tuple = ('apple','orange','banana')\n",
        "print ('banana' in tuple)"
      ],
      "metadata": {
        "colab": {
          "base_uri": "https://localhost:8080/"
        },
        "id": "irx0lxQ_cKgl",
        "outputId": "533efe7c-cc43-4b2d-942c-66a69f9dc1f6"
      },
      "execution_count": null,
      "outputs": [
        {
          "output_type": "stream",
          "name": "stdout",
          "text": [
            "True\n"
          ]
        }
      ]
    },
    {
      "cell_type": "code",
      "source": [
        "##23. Write a code to create a set with the elements 1, 2, 3, 4, 5 and print it."
      ],
      "metadata": {
        "id": "O7RJm1q_cOt-"
      },
      "execution_count": null,
      "outputs": []
    },
    {
      "cell_type": "code",
      "source": [
        "set_1 = {1,2,3,4,5}\n",
        "print (set_1)"
      ],
      "metadata": {
        "colab": {
          "base_uri": "https://localhost:8080/"
        },
        "id": "0W9BpPydcY-g",
        "outputId": "8389a85a-0a6e-4d14-820f-ce3de6ae005c"
      },
      "execution_count": null,
      "outputs": [
        {
          "output_type": "stream",
          "name": "stdout",
          "text": [
            "{1, 2, 3, 4, 5}\n"
          ]
        }
      ]
    },
    {
      "cell_type": "code",
      "source": [
        "##24. Write a code to add the element 6 to the set {1, 2, 3, 4}."
      ],
      "metadata": {
        "id": "Fgz_7Pg0cgv4"
      },
      "execution_count": null,
      "outputs": []
    },
    {
      "cell_type": "code",
      "source": [
        "set_1 = {1,2,3,4}\n",
        "set_1.add (6)\n",
        "print (set_1)"
      ],
      "metadata": {
        "colab": {
          "base_uri": "https://localhost:8080/"
        },
        "id": "0TUwQUsJcobd",
        "outputId": "4a6e77f1-205a-4ddc-a78b-4da5c5b5c478"
      },
      "execution_count": null,
      "outputs": [
        {
          "output_type": "stream",
          "name": "stdout",
          "text": [
            "{1, 2, 3, 4, 6}\n"
          ]
        }
      ]
    },
    {
      "cell_type": "code",
      "source": [],
      "metadata": {
        "id": "ldNQeu_OdRQI"
      },
      "execution_count": null,
      "outputs": []
    }
  ]
}